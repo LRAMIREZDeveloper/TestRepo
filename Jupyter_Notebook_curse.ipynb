{
  "metadata": {
    "kernelspec": {
      "name": "python",
      "display_name": "Python (Pyodide)",
      "language": "python"
    },
    "language_info": {
      "codemirror_mode": {
        "name": "python",
        "version": 3
      },
      "file_extension": ".py",
      "mimetype": "text/x-python",
      "name": "python",
      "nbconvert_exporter": "python",
      "pygments_lexer": "ipython3",
      "version": "3.8"
    }
  },
  "nbformat_minor": 4,
  "nbformat": 4,
  "cells": [
    {
      "cell_type": "markdown",
      "source": "<center>\n    <img src=\"https://cf-courses-data.s3.us.cloud-object-storage.appdomain.cloud/IBMDeveloperSkillsNetwork-DS0105EN-SkillsNetwork/labs/Module2/images/SN_web_lightmode.png\" width=\"300\" alt=\"cognitiveclass.ai logo\">\n</center>\n",
      "metadata": {}
    },
    {
      "cell_type": "markdown",
      "source": "Ejercicio 2 - Cree una celda markdown con el título del cuaderno. (1 pto)",
      "metadata": {}
    },
    {
      "cell_type": "markdown",
      "source": "# Herramientas de ciencias de datos",
      "metadata": {}
    },
    {
      "cell_type": "markdown",
      "source": "Ejercicio 3 - Cree una celda markdown para una introducción. (1 pto)",
      "metadata": {}
    },
    {
      "cell_type": "markdown",
      "source": "### En esta cuaderno se detellara un resumen del curso \"Herramientas de la ciencia de datos\", dando a conocer las aplicaciones y sotfware mas usados",
      "metadata": {}
    },
    {
      "cell_type": "markdown",
      "source": "Ejercicio 4 - Cree una celda markdown para enumerar los lenguajes de la ciencia de datos. (3 ptos)",
      "metadata": {}
    },
    {
      "cell_type": "markdown",
      "source": "## Lista librerias ciencia de datos\n1. Python\n2. R\n3. SQL",
      "metadata": {}
    },
    {
      "cell_type": "markdown",
      "source": "Ejercicio 5 - Cree una celda markdown para listar bibliotecas de ciencia de datos. (3 ptos)",
      "metadata": {}
    },
    {
      "cell_type": "markdown",
      "source": "## Lista bibliotecas ciencia de datos\n\n- Pandas\n- NumPy\n- Matplotlib\n- Tensor\n- ggplot2\n- stringr",
      "metadata": {}
    },
    {
      "cell_type": "markdown",
      "source": "Ejercicio 6 - Cree una celda markdown con una tabla de herramientas de Ciencia de Datos. (3 ptos)",
      "metadata": {}
    },
    {
      "cell_type": "markdown",
      "source": "## Herramientas de Ciencia de Datos\n\n| Nombre       | Detalle                      |\n|-------------------|----------------------------------|\n| Jupyter Notebook  | Entorno interactivo para código  |\n| RStudio           | IDE para R                       |\n",
      "metadata": {}
    },
    {
      "cell_type": "markdown",
      "source": "Ejercicio 7 - Cree una celda markdown introduciendo ejemplos de expresiones aritméticas. (1 pto)",
      "metadata": {}
    },
    {
      "cell_type": "markdown",
      "source": "## Ejemplos\n- Suma: `2 + 5 = 7`\n- Resta: `4 + 2 = 2`\n- Multiplicacion: `2 * 5 = 10`\n- Division: `9 + 3 = 3`",
      "metadata": {}
    },
    {
      "cell_type": "markdown",
      "source": "Ejercicio 8 - Cree una celda de códigopara multiplicar y sumar números. (2 ptos)",
      "metadata": {}
    },
    {
      "cell_type": "code",
      "source": "# Suma y multiplicacion de numeros\n\nsuma = 5 + 3\nmul = 3 * 4\nprint (f\"El resultado de la suma es: {suma}\")\nprint (f\"El resultado de la multiplicacion es: {mul}\")",
      "metadata": {
        "trusted": true
      },
      "outputs": [
        {
          "name": "stdout",
          "text": "El resultado de la suma es: 8\nEl resultado de la multiplicacion es: 12\n",
          "output_type": "stream"
        }
      ],
      "execution_count": 8
    },
    {
      "cell_type": "markdown",
      "source": "Ejercicio 9 - Cree una celda de código para convertir minutos en horas. (2 ptos)",
      "metadata": {}
    },
    {
      "cell_type": "code",
      "source": "# Codigo para convertir min en horas\n\nmint = 300\nhoras = 300 / 60 \nprint (f\"la cantidad de {mint} minutos equivale a {horas} hrs\")",
      "metadata": {
        "trusted": true
      },
      "outputs": [
        {
          "name": "stdout",
          "text": "la cantidad de 300 minutos equivale a 5.0 hrs\n",
          "output_type": "stream"
        }
      ],
      "execution_count": 7
    },
    {
      "cell_type": "markdown",
      "source": "Ejercicio 10 -Inserte una celda de código para listar Objetivos. (3 pts)",
      "metadata": {}
    },
    {
      "cell_type": "code",
      "source": "# codigo para listar objetivos \n\nobjetivos = [\"subir mis notas\",\"llegar temprano\",\"ganar campeoneatos\",\"conocer chile\"]\n\nfor objetivo in objetivos:\n    print (f\" - {objetivo}\")\n",
      "metadata": {
        "trusted": true
      },
      "outputs": [
        {
          "name": "stdout",
          "text": " - subir mis notas\n - llegar temprano\n - ganar campeoneatos\n - conocer chile\n",
          "output_type": "stream"
        }
      ],
      "execution_count": 9
    },
    {
      "cell_type": "markdown",
      "source": "Cree una celda markdown para indicar el nombre del Autor. (2 ptos)",
      "metadata": {}
    },
    {
      "cell_type": "markdown",
      "source": "## Autor\n\n[Luis Ramirez](https://www.linkedin.com/in/luis-ramirez-a9956b1b5/) ",
      "metadata": {}
    },
    {
      "cell_type": "code",
      "source": "",
      "metadata": {
        "trusted": true
      },
      "outputs": [],
      "execution_count": null
    }
  ]
}